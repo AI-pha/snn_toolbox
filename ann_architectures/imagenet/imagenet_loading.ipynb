{
 "cells": [
  {
   "cell_type": "code",
   "execution_count": null,
   "metadata": {
    "collapsed": true
   },
   "outputs": [],
   "source": [
    "import json\n",
    "from os.path import join\n",
    "import numpy as np\n",
    "\n",
    "map_path = '/home/rbodo/.snntoolbox/Datasets/imagenet/map_clsloc.txt'\n",
    "path = '/home/rbodo/.snntoolbox/Datasets/imagenet'\n",
    "filename = \"imagenet_class_map.json\"\n",
    "file_path = join(save_path, filename)\n",
    "class_map_list = np.loadtxt(class_map_path, dtype=str)\n",
    "\n",
    "cls_dict = {}\n",
    "print(class_map_list)\n",
    "for cls_item in class_map_list:\n",
    "    cls_dict[str(int(cls_item[1])-1)] = [cls_item[0], cls_item[2]]\n",
    "\n",
    "out_f = open(file_path, mode=\"w\")\n",
    "json.dump(cls_dict, out_f)"
   ]
  },
  {
   "cell_type": "code",
   "execution_count": null,
   "metadata": {},
   "outputs": [],
   "source": [
    ""
   ]
  }
 ],
 "metadata": {
  "kernelspec": {
   "display_name": "Python 2",
   "language": "python",
   "name": "python2"
  },
  "language_info": {
   "codemirror_mode": {
    "name": "ipython",
    "version": 2.0
   },
   "file_extension": ".py",
   "mimetype": "text/x-python",
   "name": "python",
   "nbconvert_exporter": "python",
   "pygments_lexer": "ipython2",
   "version": "2.7.6"
  }
 },
 "nbformat": 4,
 "nbformat_minor": 0
}