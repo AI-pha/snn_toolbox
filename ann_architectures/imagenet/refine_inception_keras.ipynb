{
 "cells": [
  {
   "cell_type": "code",
   "execution_count": 1,
   "metadata": {
    "collapsed": false
   },
   "outputs": [
    {
     "name": "stderr",
     "output_type": "stream",
     "text": [
      "Using Theano backend.\n"
     ]
    },
    {
     "name": "stderr",
     "output_type": "stream",
     "text": [
      "Using cuDNN version 5005 on context None\n"
     ]
    },
    {
     "name": "stderr",
     "output_type": "stream",
     "text": [
      "Mapped name None to device cuda: GeForce GTX 980 Ti (0000:01:00.0)\n"
     ]
    }
   ],
   "source": [
    "import os\n",
    "import numpy as np\n",
    "import json\n",
    "import keras\n",
    "from keras import backend as k\n",
    "from keras.applications.inception_v3 import InceptionV3, preprocess_input\n",
    "from keras.optimizers import SGD\n",
    "from keras.preprocessing.image import ImageDataGenerator"
   ]
  },
  {
   "cell_type": "code",
   "execution_count": 1,
   "metadata": {},
   "outputs": [],
   "source": [
    "data_path = '/home/rbodo/.snntoolbox/Datasets/imagenet'\n",
    "train_path = os.path.join(data_path, 'training')\n",
    "test_path = os.path.join(data_path, 'validation')\n",
    "class_idx_path = os.path.join(data_path, 'imagenet_class_index_dir.json')\n",
    "save_path = '/home/rbodo/.snntoolbox/data/imagenet/inception'"
   ]
  },
  {
   "cell_type": "code",
   "execution_count": null,
   "metadata": {},
   "outputs": [],
   "source": [
    "path_to_orig_model = os.path.join(save_path, 'inception.h5')\n",
    "if os.path.isfile(path_to_orig_model):\n",
    "    model = keras.models.load_model(path_to_orig_model)\n",
    "else:\n",
    "    # create the base pre-trained model\n",
    "    model = InceptionV3()\n",
    "    \n",
    "    # Flip kernels (tensorflow uses correlation instead of convolution, like caffe)\n",
    "    to_assign = []\n",
    "    for layer in model.layers:\n",
    "        if 'conv2d' in layer.name:\n",
    "            original_kernel = k.get_value(layer.kernel)\n",
    "            converted_kernel = original_kernel[::-1, ::-1, :, :]\n",
    "            to_assign.append((layer.kernel, converted_kernel))\n",
    "    k.batch_set_value(to_assign)"
   ]
  },
  {
   "cell_type": "code",
   "execution_count": 34,
   "metadata": {},
   "outputs": [],
   "source": [
    "model.compile(SGD(lr=0.0001, momentum=0.9), 'categorical_crossentropy', metrics=['accuracy'])"
   ]
  },
  {
   "cell_type": "code",
   "execution_count": 20,
   "metadata": {},
   "outputs": [],
   "source": [
    "target_size = (299, 299)\n",
    "batch_size = 20"
   ]
  },
  {
   "cell_type": "code",
   "execution_count": 21,
   "metadata": {},
   "outputs": [
    {
     "name": "stdout",
     "output_type": "stream",
     "text": [
      "Found 50000 images belonging to 1000 classes.\n"
     ]
    }
   ],
   "source": [
    "class_idx = json.load(open(class_idx_path, \"r\"))\n",
    "classes = [class_idx[str(idx)][0] for idx in range(len(class_idx))]\n",
    "\n",
    "datagen = ImageDataGenerator(preprocessing_function=preprocess_input)\n",
    "\n",
    "test_dataflow = datagen.flow_from_directory(\n",
    "    test_path, target_size=target_size, classes=classes, batch_size=batch_size)"
   ]
  },
  {
   "cell_type": "code",
   "execution_count": 35,
   "metadata": {},
   "outputs": [
    {
     "data": {
      "text/plain": [
       "[1.124862949848175, 0.73799999952316286]"
      ]
     },
     "execution_count": 35,
     "metadata": {},
     "output_type": "execute_result"
    }
   ],
   "source": [
    "model.evaluate_generator(test_dataflow, 25)"
   ]
  },
  {
   "cell_type": "code",
   "execution_count": 36,
   "metadata": {},
   "outputs": [],
   "source": [
    "model.save(path_to_orig_model)"
   ]
  },
  {
   "cell_type": "code",
   "execution_count": null,
   "metadata": {},
   "outputs": [],
   "source": [
    "train_dataflow = datagen.flow_from_directory(\n",
    "    train_path, target_size=target_size, classes=classes, batch_size=batch_size)"
   ]
  },
  {
   "cell_type": "code",
   "execution_count": null,
   "metadata": {},
   "outputs": [],
   "source": [
    "model.fit_generator(train_dataflow)"
   ]
  },
  {
   "cell_type": "code",
   "execution_count": null,
   "metadata": {},
   "outputs": [],
   "source": [
    "model.save(os.path.join(save_path, 'inception_refined.h5'))"
   ]
  }
 ],
 "metadata": {
  "kernelspec": {
   "display_name": "Python 2",
   "language": "python",
   "name": "python2"
  },
  "language_info": {
   "codemirror_mode": {
    "name": "ipython",
    "version": 2.0
   },
   "file_extension": ".py",
   "mimetype": "text/x-python",
   "name": "python",
   "nbconvert_exporter": "python",
   "pygments_lexer": "ipython2",
   "version": "2.7.6"
  }
 },
 "nbformat": 4,
 "nbformat_minor": 0
}