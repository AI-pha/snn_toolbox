{
 "cells": [
  {
   "cell_type": "markdown",
   "metadata": {},
   "source": [
    "# Performance of BinaryNet"
   ]
  },
  {
   "cell_type": "code",
   "execution_count": 48,
   "metadata": {
    "collapsed": true
   },
   "outputs": [],
   "source": [
    "% matplotlib inline\n",
    "\n",
    "import os\n",
    "import matplotlib.pyplot as plt\n",
    "\n",
    "from tests.other.googlenet.util import ExpResults"
   ]
  },
  {
   "cell_type": "markdown",
   "metadata": {},
   "source": [
    "## Parameters and definitions"
   ]
  },
  {
   "cell_type": "code",
   "execution_count": 49,
   "metadata": {},
   "outputs": [],
   "source": [
    "log_dir = '/home/rbodo/.snntoolbox/data/cifar10'\n",
    "runlabel_sign = log_dir + '/binarynet_sign/log/gui/01'\n",
    "path_sign = os.path.join(log_dir, runlabel_sign)\n",
    "runlabel_heaviside = log_dir + '/binarynet_heaviside/log/gui/02'\n",
    "path_heaviside = os.path.join(log_dir, runlabel_heaviside)\n",
    "\n",
    "scale = 1e3  # Scale from MOps to GOps"
   ]
  },
  {
   "cell_type": "code",
   "execution_count": 57,
   "metadata": {},
   "outputs": [],
   "source": [
    "exp_sign = ExpResults(path_sign, 'sign', '.', scale=scale)\n",
    "exp_heaviside = ExpResults(path_heaviside, 'heaviside', '.', 'green', scale=scale)\n",
    "experiments = [exp_sign, exp_heaviside]"
   ]
  },
  {
   "cell_type": "markdown",
   "metadata": {},
   "source": [
    "## Plot error vs operations"
   ]
  },
  {
   "cell_type": "code",
   "execution_count": 58,
   "metadata": {},
   "outputs": [],
   "source": [
    "for exp in experiments:\n",
    "    exp.e1_ann /= 100\n",
    "    exp.e1_std_ann /= 100"
   ]
  },
  {
   "cell_type": "code",
   "execution_count": 61,
   "metadata": {
    "collapsed": false
   },
   "outputs": [
    {
     "data": {
      "image/png": "[encoded data removed]",
      "text/plain": [
       "<matplotlib.figure.Figure at 0x7f773b610f28>"
      ]
     },
     "metadata": {},
     "output_type": "display_data"
    }
   ],
   "source": [
    "show_numbers = False\n",
    "\n",
    "plt.figure(figsize=(7, 5))\n",
    "\n",
    "for exp in experiments:\n",
    "    plt.errorbar(exp.mean_computations_t, exp.e1_mean, xerr=exp.std_computations_t,\n",
    "                 yerr=exp.e1_confidence95, fmt=exp.marker, label='SNN '+exp.label, capsize=0, elinewidth=0.1, color=exp.color1)\n",
    "\n",
    "exp = experiments[0]\n",
    "plt.errorbar(exp.operations_ann, exp.e1_ann, marker='x', label='ANN '+exp.label, color=exp.color1, markersize=15,\n",
    "             yerr=exp.e1_confidence95_ann, elinewidth=2, capthick=2, markeredgewidth=2, alpha=0.5)\n",
    "if show_numbers:\n",
    "    plt.annotate('({:.2f}, {:.2f})'.format(exp.operations_ann, exp.e1_ann), xy=(exp.operations_ann - 0.15, exp.e1_ann + 10), color=exp.color1)\n",
    "    plt.annotate('({:.2f}, {:.2f})'.format(exp.op1_optimal, exp.e1_optimal), xy=(exp.op1_optimal, exp.e1_optimal),\n",
    "                 xytext=(exp.op1_optimal, exp.e1_optimal + 10),\n",
    "                 arrowprops=dict(color=exp.color1, shrink=0.05, width=5, headwidth=10), color=exp.color1)\n",
    "\n",
    "exp = experiments[1]\n",
    "plt.errorbar(exp.operations_ann, exp.e1_ann, marker='x', label='ANN '+exp.label, color=exp.color1, markersize=15,\n",
    "             yerr=exp.e1_confidence95_ann, elinewidth=2, capthick=2, markeredgewidth=2, alpha=0.5)\n",
    "if show_numbers:\n",
    "    plt.annotate('({:.2f}, {:.2f})'.format(exp.operations_ann, exp.e1_ann), xy=(exp.operations_ann - 0.15, exp.e1_ann + 10), color=exp.color1)\n",
    "    plt.annotate('({:.2f}, {:.2f})'.format(exp.op1_optimal, exp.e1_optimal), xy=(exp.op1_optimal, exp.e1_optimal),\n",
    "                 xytext=(exp.op1_optimal, exp.e1_optimal + 10),\n",
    "                 arrowprops=dict(color=exp.color1, shrink=0.05, width=5, headwidth=10), color=exp.color1)\n",
    "\n",
    "plt.xlim(0, 1.5)\n",
    "plt.ylim(0, 100)\n",
    "plt.ylabel('Error [%]')\n",
    "plt.xlabel('GOps')\n",
    "plt.legend(loc='upper right')\n",
    "plt.title('ANN vs SNN performance')\n",
    "plt.savefig(os.path.join(log_dir, 'err_vs_ops'), bbox_inches='tight')"
   ]
  },
  {
   "cell_type": "code",
   "execution_count": 62,
   "metadata": {},
   "outputs": [
    {
     "name": "stdout",
     "output_type": "stream",
     "text": [
      "SNN sign: (0.08 GOps/frame, 12.32 %)\nSNN sign: (0.25 GOps/frame, 11.49 %)\nSNN sign: (0.08 GOps/frame, 12.49 %)\nANN sign: (1.23 GOps/frame, 11.58 %)\nSNN heaviside: (0.49 GOps/frame, 11.96 %)\nSNN heaviside: (2.90 GOps/frame, 11.01 %)\nSNN heaviside: (0.49 GOps/frame, 12.01 %)\nANN heaviside: (1.23 GOps/frame, 11.03 %)\n"
     ]
    }
   ],
   "source": [
    "for exp in experiments:\n",
    "    print('SNN {}: ({:.2f} GOps/frame, {:.2f} %)'.format(exp.label, exp.op1_optimal, exp.e1_optimal))\n",
    "    print('SNN {}: ({:.2f} GOps/frame, {:.2f} %)'.format(exp.label, exp.op1_0, exp.e1_0))\n",
    "    print('SNN {}: ({:.2f} GOps/frame, {:.2f} %)'.format(exp.label, exp.op1_1, exp.e1_1))\n",
    "    print('ANN {}: ({:.2f} GOps/frame, {:.2f} %)'.format(exp.label, exp.operations_ann, exp.e1_ann))"
   ]
  },
  {
   "cell_type": "code",
   "execution_count": null,
   "metadata": {},
   "outputs": [],
   "source": [
    ""
   ]
  }
 ],
 "metadata": {
  "kernelspec": {
   "display_name": "Python 2",
   "language": "python",
   "name": "python2"
  },
  "language_info": {
   "codemirror_mode": {
    "name": "ipython",
    "version": 2.0
   },
   "file_extension": ".py",
   "mimetype": "text/x-python",
   "name": "python",
   "nbconvert_exporter": "python",
   "pygments_lexer": "ipython2",
   "version": "2.7.6"
  }
 },
 "nbformat": 4,
 "nbformat_minor": 0
}