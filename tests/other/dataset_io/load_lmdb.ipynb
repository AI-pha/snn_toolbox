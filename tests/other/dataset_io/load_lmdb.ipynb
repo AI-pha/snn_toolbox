{
 "cells": [
  {
   "cell_type": "code",
   "execution_count": 2,
   "metadata": {
    "collapsed": true
   },
   "outputs": [],
   "source": [
    "import os\n",
    "import lmdb\n",
    "import caffe\n",
    "import numpy as np\n",
    "import matplotlib.pyplot as plt\n",
    "%matplotlib inline"
   ]
  },
  {
   "cell_type": "code",
   "execution_count": 5,
   "metadata": {},
   "outputs": [],
   "source": [
    "from snntoolbox.io_utils.common import to_categorical\n",
    "\n",
    "#path_to_dataset = '/home/rbodo/.snntoolbox/Datasets/roshambo'\n",
    "path_to_dataset = '/home/rbodo/Downloads/lmdb_train/test'\n",
    "\n",
    "lmdb_env = lmdb.open(path_to_dataset)\n",
    "lmdb_txn = lmdb_env.begin()\n",
    "lmdb_cursor = lmdb_txn.cursor()\n",
    "\n",
    "x_test = []\n",
    "y_test = []\n",
    "\n",
    "for key, value in lmdb_cursor:\n",
    "    datum = caffe.proto.caffe_pb2.Datum()\n",
    "    datum.ParseFromString(value)\n",
    "    x_test.append(caffe.io.datum_to_array(datum) / 255.)\n",
    "    y_test.append(int(datum.label))"
   ]
  },
  {
   "cell_type": "code",
   "execution_count": 6,
   "metadata": {},
   "outputs": [],
   "source": [
    "# Separate background samples\n",
    "x_test_no_background = [x for i, x in enumerate(x_test) if y_test[i] != 3]\n",
    "y_test_no_background = [y for y in y_test if y != 3]\n",
    "x_test_background = [x for i, x in enumerate(x_test) if y_test[i] == 3]\n",
    "y_test_background = [y for y in y_test if y == 3]"
   ]
  },
  {
   "cell_type": "code",
   "execution_count": 7,
   "metadata": {},
   "outputs": [
    {
     "data": {
      "text/plain": [
       "11676"
      ]
     },
     "execution_count": 7,
     "metadata": {},
     "output_type": "execute_result"
    }
   ],
   "source": [
    "len(y_test_no_background)"
   ]
  },
  {
   "cell_type": "code",
   "execution_count": 8,
   "metadata": {},
   "outputs": [
    {
     "data": {
      "text/plain": [
       "4200"
      ]
     },
     "execution_count": 8,
     "metadata": {},
     "output_type": "execute_result"
    }
   ],
   "source": [
    "len(y_test_background)"
   ]
  },
  {
   "cell_type": "code",
   "execution_count": 9,
   "metadata": {},
   "outputs": [
    {
     "data": {
      "text/plain": [
       "15876"
      ]
     },
     "execution_count": 9,
     "metadata": {},
     "output_type": "execute_result"
    }
   ],
   "source": [
    "len(y_test)"
   ]
  },
  {
   "cell_type": "code",
   "execution_count": 10,
   "metadata": {},
   "outputs": [],
   "source": [
    "np.savez_compressed(os.path.join(path_to_dataset, 'frames_no_background', 'x_norm'), np.array(x_test_no_background, dtype='float32'))\n",
    "np.savez_compressed(os.path.join(path_to_dataset, 'frames_no_background', 'x_test'), np.array(x_test_no_background, dtype='float32'))\n",
    "np.savez_compressed(os.path.join(path_to_dataset, 'frames_no_background', 'y_test'), np.array(to_categorical(y_test_no_background, 4), dtype='float32'))"
   ]
  },
  {
   "cell_type": "code",
   "execution_count": 11,
   "metadata": {},
   "outputs": [],
   "source": [
    "np.savez_compressed(os.path.join(path_to_dataset, 'frames_background', 'x_norm'), np.array(x_test_background, dtype='float32'))\n",
    "np.savez_compressed(os.path.join(path_to_dataset, 'frames_background', 'x_test'), np.array(x_test_background, dtype='float32'))\n",
    "np.savez_compressed(os.path.join(path_to_dataset, 'frames_background', 'y_test'), np.array(to_categorical(y_test_background, 4), dtype='float32'))"
   ]
  },
  {
   "cell_type": "code",
   "execution_count": 12,
   "metadata": {},
   "outputs": [],
   "source": [
    "np.savez_compressed(os.path.join(path_to_dataset, 'x_norm'), np.array(x_test, dtype='float32'))\n",
    "np.savez_compressed(os.path.join(path_to_dataset, 'x_test'), np.array(x_test, dtype='float32'))\n",
    "np.savez_compressed(os.path.join(path_to_dataset, 'y_test'), np.array(to_categorical(y_test, 4), dtype='float32'))"
   ]
  },
  {
   "cell_type": "code",
   "execution_count": 13,
   "metadata": {},
   "outputs": [
    {
     "name": "stdout",
     "output_type": "stream",
     "text": [
      "{'0': 'paper', '1': 'scissors', '2': 'rock', '3': 'background'}\nClass boundaries: [ 5007  7451 11651 15876]\n"
     ]
    },
    {
     "data": {
      "image/png": "[encoded data removed]",
      "text/plain": [
       "<matplotlib.figure.Figure at 0x7f9113038630>"
      ]
     },
     "metadata": {},
     "output_type": "display_data"
    }
   ],
   "source": [
    "plt.plot(y_test)\n",
    "class_label_idx = {'0': 'paper', '1': 'scissors', '2': 'rock', '3': 'background'}\n",
    "print(class_label_idx)\n",
    "class_sizes = [len(np.nonzero(np.array(y_test)==i)[0]) for i in [0, 2, 3, 1]]\n",
    "print('Class boundaries: {}'.format(np.cumsum(class_sizes)))"
   ]
  },
  {
   "cell_type": "code",
   "execution_count": 14,
   "metadata": {},
   "outputs": [
    {
     "name": "stdout",
     "output_type": "stream",
     "text": [
      "2\n"
     ]
    },
    {
     "data": {
      "image/png": "[encoded data removed]",
      "text/plain": [
       "<matplotlib.figure.Figure at 0x7f91130ed358>"
      ]
     },
     "metadata": {},
     "output_type": "display_data"
    }
   ],
   "source": [
    "i = 9420\n",
    "plt.imshow(x_test[i][0])\n",
    "print(y_test[i])"
   ]
  },
  {
   "cell_type": "code",
   "execution_count": 3,
   "metadata": {},
   "outputs": [],
   "source": [
    "path = '/home/rbodo/.snntoolbox/data/roshambo'\n",
    "prototxt = os.path.join(path, 'NullHop.prototxt')\n",
    "caffemodel = os.path.join(path, 'NullHop.caffemodel')\n",
    "model = caffe.Net(prototxt, 1, weights=caffemodel)"
   ]
  },
  {
   "cell_type": "code",
   "execution_count": null,
   "metadata": {},
   "outputs": [],
   "source": [
    "# To be executed in the terminal running python2\n",
    "\n",
    "import sys\n",
    "sys.path.remove('/mnt/2646BAF446BAC3B9/Repositories/caffe/python')\n",
    "sys.path.append('/mnt/2646BAF446BAC3B9/Repositories/caffe_lp/python')\n",
    "import caffe\n",
    "from caffe.quantization.net_descriptor import net_prototxt\n",
    "net = net_prototxt()\n",
    "caffe_root = '/mnt/2646BAF446BAC3B9/Repositories/caffe_lp/'\n",
    "weight_dir = '/home/rbodo/Downloads/'#'/home/rbodo/.snntoolbox/data/roshambo/'  # Location of caffemodel\n",
    "save_dir = '/home/rbodo/.snntoolbox/data/roshambo/standard_caffe/'\n",
    "model_dir = 'examples/low_precision/'  # Put prototxt file there, and append '_deploy' to filename.\n",
    "net_descr = net.extract('NullHop', caffe_root=caffe_root, model_dir=model_dir, weight_dir=weight_dir)\n",
    "net.create('NullHop', net_descr, lp=False, deploy=True, caffe_root=caffe_root, model_dir=model_dir, save_dir=save_dir)\n",
    "# In output file, remove dropout layer (change 'bottom' parameter of following layer) and adapt input layer\n",
    "net1 = caffe.Net(caffe_root+model_dir+'NullHop_deploy.prototxt', 1, weights=weight_dir+'NullHop/NullHop.caffemodel')\n",
    "net2 = caffe.Net(save_dir+'NullHop_deploy.prototxt', 1)\n",
    "for k1, k2 in zip(net1.params.keys(), net2.params.keys()):\n",
    "    net2.params[k2][0] = net1.params[k1][1]\n",
    "    net2.params[k2][1] = net1.params[k1][3]\n",
    "net2.save(save_dir+'NullHop.caffemodel')"
   ]
  },
  {
   "cell_type": "code",
   "execution_count": null,
   "metadata": {},
   "outputs": [],
   "source": [
    "# Generate and save Poisson input\n",
    "\n",
    "num_to_test = 15876\n",
    "batch_size = 50\n",
    "num_batches = int(np.floor(num_to_test / batch_size))\n",
    "input_rate = 1000\n",
    "rescale_fac = 1000 / input_rate\n",
    "duration = 150\n",
    "num_poisson_events_per_sample = -1\n",
    "\n",
    "input_b_l_t = np.empty((batch_size, 1, 64, 64, duration), np.bool)\n",
    "\n",
    "for batch_idx in range(num_batches):\n",
    "    x_b = np.array(x_test[batch_size*batch_idx: batch_size*(batch_idx+1)])\n",
    "\n",
    "    input_spikecount = 0\n",
    "    for sim_step in range(duration):\n",
    "        if input_spikecount < num_poisson_events_per_sample \\\n",
    "                or num_poisson_events_per_sample < 0:\n",
    "            spike_snapshot = np.random.random_sample(x_b.shape) * rescale_fac\n",
    "            inp = (spike_snapshot <= np.abs(x_b)).astype('float32')\n",
    "            input_spikecount += np.count_nonzero(inp) / batch_size\n",
    "        else:\n",
    "            inp = np.zeros(x_b.shape)\n",
    "        input_b_l_t[Ellipsis, sim_step] = inp\n",
    "\n",
    "    np.savez_compressed('/home/rbodo/Downloads/' + str(batch_idx), input_b_l_t=input_b_l_t)"
   ]
  },
  {
   "cell_type": "code",
   "execution_count": null,
   "metadata": {},
   "outputs": [],
   "source": [
    ""
   ]
  }
 ],
 "metadata": {
  "kernelspec": {
   "display_name": "Python 2",
   "language": "python",
   "name": "python2"
  },
  "language_info": {
   "codemirror_mode": {
    "name": "ipython",
    "version": 2.0
   },
   "file_extension": ".py",
   "mimetype": "text/x-python",
   "name": "python",
   "nbconvert_exporter": "python",
   "pygments_lexer": "ipython2",
   "version": "2.7.6"
  }
 },
 "nbformat": 4,
 "nbformat_minor": 0
}