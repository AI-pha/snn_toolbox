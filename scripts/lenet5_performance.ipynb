{
 "cells": [
  {
   "cell_type": "markdown",
   "metadata": {},
   "source": [
    "# Performance of LeNet-5"
   ]
  },
  {
   "cell_type": "code",
   "execution_count": 6,
   "metadata": {
    "collapsed": true
   },
   "outputs": [],
   "source": [
    "\n",
    "% matplotlib inline\n",
    "\n",
    "import os\n",
    "import matplotlib.pyplot as plt\n",
    "\n",
    "from scripts.utils import ExpResults"
   ]
  },
  {
   "cell_type": "code",
   "execution_count": 7,
   "metadata": {},
   "outputs": [],
   "source": [
    "plotproperties = {'font.size': 13,\n",
    "                  'axes.titlesize': 'xx-large',\n",
    "                  'axes.labelsize': 'xx-large',\n",
    "                  'xtick.labelsize': 'xx-large',\n",
    "                  'xtick.major.size': 7,\n",
    "                  'xtick.minor.size': 5,\n",
    "                  'ytick.labelsize': 'xx-large',\n",
    "                  'ytick.major.size': 7,\n",
    "                  'ytick.minor.size': 5,\n",
    "                  'legend.fontsize': 'xx-large',\n",
    "                  'figure.figsize': (7, 6),\n",
    "                  'savefig.dpi': 300,\n",
    "                  'savefig.format': 'jpg'}\n",
    "\n",
    "import matplotlib as mpl\n",
    "mpl.rcParams.update(plotproperties)"
   ]
  },
  {
   "cell_type": "markdown",
   "metadata": {},
   "source": [
    "## Parameters and definitions"
   ]
  },
  {
   "cell_type": "code",
   "execution_count": 3,
   "metadata": {},
   "outputs": [],
   "source": [
    "log_dir = '/home/rbodo/.snntoolbox/data/mnist/cnn/lenet5/keras/32bit/log'\n",
    "runlabel_analog = '01'\n",
    "path_analog = os.path.join(log_dir, 'gui', runlabel_analog)"
   ]
  },
  {
   "cell_type": "code",
   "execution_count": 8,
   "metadata": {},
   "outputs": [],
   "source": [
    "exp_analog = ExpResults(path_analog, '', '.')\n",
    "experiments = [exp_analog]"
   ]
  },
  {
   "cell_type": "markdown",
   "metadata": {},
   "source": [
    "## Plot error vs operations"
   ]
  },
  {
   "cell_type": "code",
   "execution_count": 14,
   "metadata": {
    "collapsed": false
   },
   "outputs": [
    {
     "data": {
      "image/png": "[encoded data removed]",
      "text/plain": [
       "<matplotlib.figure.Figure at 0x7fae34130f98>"
      ]
     },
     "metadata": {},
     "output_type": "display_data"
    }
   ],
   "source": [
    "show_numbers = True\n",
    "\n",
    "exp = experiments[0]\n",
    "\n",
    "plt.errorbar(exp.mean_computations_t, exp.e1_mean, xerr=exp.std_computations_t,\n",
    "             yerr=exp.e1_confidence95, fmt=exp.marker, label='SNN '+exp.label, capsize=0, elinewidth=0.1, color=exp.color1)\n",
    "\n",
    "plt.errorbar(exp.operations_ann, exp.e1_ann, marker='x', label='ANN '+exp.label, color=exp.color1, markersize=15,\n",
    "             yerr=exp.e1_confidence95_ann, elinewidth=2, capthick=2, markeredgewidth=2, alpha=0.5)\n",
    "\n",
    "if show_numbers:\n",
    "    plt.annotate('({:.2f} MOps, {:.2f}%)'.format(exp.operations_ann, exp.e1_ann), xy=(exp.operations_ann - 0.7, exp.e1_ann + 5), fontsize=16, color=exp.color1)\n",
    "    plt.annotate('({:.2f} MOps, {:.2f}%)'.format(exp.op1_optimal, exp.e1_optimal), xy=(exp.op1_optimal, exp.e1_optimal),\n",
    "                 xytext=(exp.op1_optimal, exp.e1_optimal + 10), fontsize=16,\n",
    "                 arrowprops=dict(color=exp.color1, shrink=0.05, width=5, headwidth=10), color=exp.color1)\n",
    "\n",
    "plt.ylim(0, 100)\n",
    "plt.xlim(0, 3)\n",
    "plt.ylabel('Error [%]')\n",
    "plt.xlabel('MOps')\n",
    "plt.legend(loc='upper right')\n",
    "# plt.title('ANN vs SNN performance')\n",
    "plt.savefig(os.path.join(log_dir, 'err_vs_ops'), bbox_inches='tight')"
   ]
  },
  {
   "cell_type": "code",
   "execution_count": 5,
   "metadata": {},
   "outputs": [
    {
     "name": "stdout",
     "output_type": "stream",
     "text": [
      "top-1\nANN top-1:                         (2.34673 MOps/frame, 1.04 %)\nSNN top-1 best error:         (3.70817 MOps/frame, 0.94 %)\nSNN top-1 converged:        (1.06787 MOps/frame, 1.63 %)\nSNN top-1 jointly optimal:  (0.78852 MOps/frame, 3.68 %)\nSNN top-1 same op:           (2.18401 MOps/frame, 0.99 %)\n\n"
     ]
    }
   ],
   "source": [
    "for exp in experiments:\n",
    "    print(exp.label)\n",
    "    print('ANN top-1:                         ({:.5f} MOps/frame, {:.2f} %)'.format(exp.operations_ann, exp.e1_ann))\n",
    "    print('SNN top-1 best error:         ({:.5f} MOps/frame, {:.2f} %)'.format(exp.op1_0, exp.e1_0))\n",
    "    print('SNN top-1 converged:        ({:.5f} MOps/frame, {:.2f} %)'.format(exp.op1_1, exp.e1_1))\n",
    "    print('SNN top-1 jointly optimal:  ({:.5f} MOps/frame, {:.2f} %)'.format(exp.op1_optimal, exp.e1_optimal))\n",
    "    print('SNN top-1 same op:           ({:.5f} MOps/frame, {:.2f} %)'.format(exp.op1_2, exp.e1_2))\n",
    "    print('')"
   ]
  },
  {
   "cell_type": "code",
   "execution_count": 15,
   "metadata": {},
   "outputs": [],
   "source": [
    ""
   ]
  }
 ],
 "metadata": {
  "kernelspec": {
   "display_name": "Python 2",
   "language": "python",
   "name": "python2"
  },
  "language_info": {
   "codemirror_mode": {
    "name": "ipython",
    "version": 2
   },
   "file_extension": ".py",
   "mimetype": "text/x-python",
   "name": "python",
   "nbconvert_exporter": "python",
   "pygments_lexer": "ipython2",
   "version": "2.7.6"
  }
 },
 "nbformat": 4,
 "nbformat_minor": 0
}
