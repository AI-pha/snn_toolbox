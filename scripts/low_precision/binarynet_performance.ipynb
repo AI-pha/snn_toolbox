{
 "cells": [
  {
   "cell_type": "markdown",
   "metadata": {},
   "source": [
    "# Performance of BinaryNet"
   ]
  },
  {
   "cell_type": "code",
   "execution_count": 1,
   "metadata": {
    "collapsed": true
   },
   "outputs": [],
   "source": [
    "% matplotlib inline\n",
    "\n",
    "import os\n",
    "import matplotlib.pyplot as plt\n",
    "\n",
    "from scripts.util import ExpResults"
   ]
  },
  {
   "cell_type": "code",
   "execution_count": 2,
   "metadata": {},
   "outputs": [],
   "source": [
    "plotproperties = {'font.size': 13,\n",
    "                  'axes.titlesize': 'xx-large',\n",
    "                  'axes.labelsize': 'xx-large',\n",
    "                  'xtick.labelsize': 'xx-large',\n",
    "                  'xtick.major.size': 7,\n",
    "                  'xtick.minor.size': 5,\n",
    "                  'ytick.labelsize': 'xx-large',\n",
    "                  'ytick.major.size': 7,\n",
    "                  'ytick.minor.size': 5,\n",
    "                  'legend.fontsize': 'xx-large',\n",
    "                  'figure.figsize': (7, 6),\n",
    "                  'savefig.dpi': 300,\n",
    "                  'savefig.format': 'jpg'}\n",
    "\n",
    "import matplotlib as mpl\n",
    "mpl.rcParams.update(plotproperties)"
   ]
  },
  {
   "cell_type": "markdown",
   "metadata": {},
   "source": [
    "## Parameters and definitions"
   ]
  },
  {
   "cell_type": "code",
   "execution_count": 3,
   "metadata": {},
   "outputs": [],
   "source": [
    "log_dir = '/home/rbodo/.snntoolbox/data/cifar10'\n",
    "runlabel_sign = log_dir + '/binarynet_sign/log/gui/02'\n",
    "path_sign = os.path.join(log_dir, runlabel_sign)\n",
    "runlabel_heaviside = log_dir + '/binarynet_heaviside/log/gui/01'\n",
    "path_heaviside = os.path.join(log_dir, runlabel_heaviside)\n",
    "\n",
    "scale = 1e3  # Scale from MOps to GOps"
   ]
  },
  {
   "cell_type": "code",
   "execution_count": 4,
   "metadata": {},
   "outputs": [
    {
     "name": "stderr",
     "output_type": "stream",
     "text": [
      "Using Theano backend.\n"
     ]
    },
    {
     "name": "stderr",
     "output_type": "stream",
     "text": [
      "Using cuDNN version 5005 on context None\nMapped name None to device cuda: GeForce GTX 980 Ti (0000:01:00.0)\n"
     ]
    }
   ],
   "source": [
    "exp_sign = ExpResults(path_sign, 'sign', '.', scale=scale)\n",
    "exp_heaviside = ExpResults(path_heaviside, 'Heaviside', '.', 'green', scale=scale)\n",
    "experiments = [exp_sign, exp_heaviside]"
   ]
  },
  {
   "cell_type": "markdown",
   "metadata": {},
   "source": [
    "## Plot error vs operations"
   ]
  },
  {
   "cell_type": "code",
   "execution_count": 5,
   "metadata": {
    "collapsed": false
   },
   "outputs": [
    {
     "data": {
      "image/png": "[encoded data removed]",
      "text/plain": [
       "<matplotlib.figure.Figure at 0x7fc5188314a8>"
      ]
     },
     "metadata": {},
     "output_type": "display_data"
    }
   ],
   "source": [
    "show_numbers = False\n",
    "\n",
    "plt.figure(figsize=(7, 5))\n",
    "\n",
    "for exp in experiments:\n",
    "    plt.errorbar(exp.mean_computations_t, exp.e1_mean, xerr=exp.std_computations_t,\n",
    "                 yerr=exp.e1_confidence95, fmt=exp.marker, label='SNN '+exp.label, capsize=0, elinewidth=0.1, color=exp.color1)\n",
    "    plt.errorbar(exp.operations_ann, exp.e1_ann, marker='x', label='ANN '+exp.label, color=exp.color1, markersize=15,\n",
    "                 yerr=exp.e1_confidence95_ann, elinewidth=2, capthick=2, markeredgewidth=2, alpha=0.5)\n",
    "\n",
    "exp = experiments[0]\n",
    "if show_numbers:\n",
    "    plt.annotate('({:.2f}, {:.2f})'.format(exp.operations_ann, exp.e1_ann), xy=(exp.operations_ann - 0.15, exp.e1_ann + 10), color=exp.color1)\n",
    "    plt.annotate('({:.2f}, {:.2f})'.format(exp.op1_optimal, exp.e1_optimal), xy=(exp.op1_optimal, exp.e1_optimal),\n",
    "                 xytext=(exp.op1_optimal, exp.e1_optimal + 10),\n",
    "                 arrowprops=dict(color=exp.color1, shrink=0.05, width=5, headwidth=10), color=exp.color1)\n",
    "\n",
    "exp = experiments[1]\n",
    "if show_numbers:\n",
    "    plt.annotate('({:.2f}, {:.2f})'.format(exp.operations_ann, exp.e1_ann), xy=(exp.operations_ann - 0.15, exp.e1_ann + 10), color=exp.color1)\n",
    "    plt.annotate('({:.2f}, {:.2f})'.format(exp.op1_optimal, exp.e1_optimal), xy=(exp.op1_optimal, exp.e1_optimal),\n",
    "                 xytext=(exp.op1_optimal, exp.e1_optimal + 10),\n",
    "                 arrowprops=dict(color=exp.color1, shrink=0.05, width=5, headwidth=10), color=exp.color1)\n",
    "\n",
    "plt.xlim(0, 1.5)\n",
    "plt.ylim(0, 100)\n",
    "plt.ylabel('Error [%]')\n",
    "plt.xlabel('GOps')\n",
    "plt.legend(loc='upper right')\n",
    "# plt.title('ANN vs SNN performance')\n",
    "plt.savefig(os.path.join(log_dir, 'err_vs_ops'), bbox_inches='tight')"
   ]
  },
  {
   "cell_type": "code",
   "execution_count": 6,
   "metadata": {},
   "outputs": [
    {
     "name": "stdout",
     "output_type": "stream",
     "text": [
      "sign\nANN top-1:                         (1.23393 GOps/frame, 11.03 %)\nSNN top-1 best error:         (4.83111 GOps/frame, 11.75 %)\nSNN top-1 converged:        (0.81096 GOps/frame, 12.50 %)\nSNN top-1 jointly optimal:  (0.32855 GOps/frame, 14.40 %)\nSNN top-1 same op:           (1.29338 GOps/frame, 12.10 %)\n\nHeaviside\nANN top-1:                         (1.23393 GOps/frame, 11.58 %)\nSNN top-1 best error:         (0.64113 GOps/frame, 12.55 %)\nSNN top-1 converged:        (0.12890 GOps/frame, 13.32 %)\nSNN top-1 jointly optimal:  (0.05573 GOps/frame, 15.14 %)\nSNN top-1 same op:           (0.64113 GOps/frame, 12.56 %)\n\n"
     ]
    }
   ],
   "source": [
    "for exp in experiments:\n",
    "    print(exp.label)\n",
    "    print('ANN top-1:                         ({:.5f} GOps/frame, {:.2f} %)'.format(exp.operations_ann, exp.e1_ann))\n",
    "    print('SNN top-1 best error:         ({:.5f} GOps/frame, {:.2f} %)'.format(exp.op1_0, exp.e1_0))\n",
    "    print('SNN top-1 converged:        ({:.5f} GOps/frame, {:.2f} %)'.format(exp.op1_1, exp.e1_1))\n",
    "    print('SNN top-1 jointly optimal:  ({:.5f} GOps/frame, {:.2f} %)'.format(exp.op1_optimal, exp.e1_optimal))\n",
    "    print('SNN top-1 same op:           ({:.5f} GOps/frame, {:.2f} %)'.format(exp.op1_2, exp.e1_2))\n",
    "    print('')"
   ]
  },
  {
   "cell_type": "code",
   "execution_count": null,
   "metadata": {},
   "outputs": [],
   "source": [
    ""
   ]
  }
 ],
 "metadata": {
  "kernelspec": {
   "display_name": "Python 2",
   "language": "python",
   "name": "python2"
  },
  "language_info": {
   "codemirror_mode": {
    "name": "ipython",
    "version": 2.0
   },
   "file_extension": ".py",
   "mimetype": "text/x-python",
   "name": "python",
   "nbconvert_exporter": "python",
   "pygments_lexer": "ipython2",
   "version": "2.7.6"
  }
 },
 "nbformat": 4,
 "nbformat_minor": 0
}